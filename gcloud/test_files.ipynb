{
 "cells": [
  {
   "cell_type": "code",
   "execution_count": 2,
   "metadata": {},
   "outputs": [],
   "source": [
    "import pandas as pd\n",
    "import pickle\n",
    "\n",
    "# Leer el archivo Excel\n",
    "df = pd.read_excel('/Users/noearredondo/Downloads/catalogoCFDI4_sat.xlsx')\n",
    "\n",
    "# Crear un diccionario con c_ClaveProdServ como clave y Descripción como valor\n",
    "diccionario = dict(zip(df['c_ClaveProdServ'], df['Descripción']))\n",
    "\n",
    "# Guardar el diccionario como archivo .pkl\n",
    "with open('/Users/noearredondo/Downloads/catalogoCFDI4.pkl', 'wb') as f:\n",
    "    pickle.dump(diccionario, f)"
   ]
  },
  {
   "cell_type": "code",
   "execution_count": null,
   "metadata": {},
   "outputs": [
    {
     "name": "stdout",
     "output_type": "stream",
     "text": [
      "Index(['OBRA', 'TIPO DE GASTO', 'NUMERO', 'FECHA FACTURA', 'CANTIDAD',\n",
      "       'SUBTOTAL', 'TOTAL', 'desc', 'categoria_id', 'subcategoria_id',\n",
      "       'prediction_confidence', 'found_in_dictionary', 'ID_F', 'prov',\n",
      "       'RESIDENTE', 'ESTATUS', 'FECHA RECEPCION', 'FECHA PAGADO',\n",
      "       'FECHA AUTORIZACION', 'CLAVE PROD.', 'CLAVE UNID', 'UNIDAD',\n",
      "       'P. UNITARIO', 'DESCUENTO', 'VENTA TASA (0%)', 'VENTA TASA (16%)',\n",
      "       'MONEDA', 'IVA (16%)', 'ISH', 'RET. IVA', 'RET. ISR', 'Serie',\n",
      "       'URL_pdf', 'URL_OC', 'URL_REM', 'sat'],\n",
      "      dtype='object')\n"
     ]
    }
   ],
   "source": [
    "df_2 = pd.read_excel('/Users/noearredondo/Downloads/modelo_v5/v5_predicciones.xlsx')\n",
    "for i in df_2.columns:\n",
    "    print(i)"
   ]
  },
  {
   "cell_type": "code",
   "execution_count": 4,
   "metadata": {},
   "outputs": [
    {
     "name": "stdout",
     "output_type": "stream",
     "text": [
      "OBRA\n",
      "TIPO DE GASTO\n",
      "NUMERO\n",
      "FECHA FACTURA\n",
      "CANTIDAD\n",
      "SUBTOTAL\n",
      "TOTAL\n",
      "desc\n",
      "categoria_id\n",
      "subcategoria_id\n",
      "prediction_confidence\n",
      "found_in_dictionary\n",
      "ID_F\n",
      "prov\n",
      "RESIDENTE\n",
      "ESTATUS\n",
      "FECHA RECEPCION\n",
      "FECHA PAGADO\n",
      "FECHA AUTORIZACION\n",
      "CLAVE PROD.\n",
      "CLAVE UNID\n",
      "UNIDAD\n",
      "P. UNITARIO\n",
      "DESCUENTO\n",
      "VENTA TASA (0%)\n",
      "VENTA TASA (16%)\n",
      "MONEDA\n",
      "IVA (16%)\n",
      "ISH\n",
      "RET. IVA\n",
      "RET. ISR\n",
      "Serie\n",
      "URL_pdf\n",
      "URL_OC\n",
      "URL_REM\n",
      "sat\n"
     ]
    }
   ],
   "source": [
    "for i in df_2.columns:\n",
    "    print(i)"
   ]
  },
  {
   "cell_type": "code",
   "execution_count": null,
   "metadata": {},
   "outputs": [],
   "source": []
  }
 ],
 "metadata": {
  "kernelspec": {
   "display_name": ".venv",
   "language": "python",
   "name": "python3"
  },
  "language_info": {
   "codemirror_mode": {
    "name": "ipython",
    "version": 3
   },
   "file_extension": ".py",
   "mimetype": "text/x-python",
   "name": "python",
   "nbconvert_exporter": "python",
   "pygments_lexer": "ipython3",
   "version": "3.12.8"
  }
 },
 "nbformat": 4,
 "nbformat_minor": 2
}
