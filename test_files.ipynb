{
 "cells": [
  {
   "cell_type": "code",
   "execution_count": null,
   "metadata": {},
   "outputs": [
    {
     "name": "stdout",
     "output_type": "stream",
     "text": [
      "obra\n",
      "tipo_gasto\n",
      "proveedor\n",
      "residente\n",
      "folio\n",
      "estatus\n",
      "total\n",
      "url_xml\n",
      "url_pdf\n",
      "url_oc\n",
      "url_rem\n",
      "xml_uuid\n",
      "fecha_factura\n",
      "fecha_recepcion\n",
      "fecha_contrarecibo\n",
      "fecha_autorizacion\n",
      "fecha_pagada\n",
      "fecha_alta\n",
      "cuenta_gasto\n"
     ]
    },
    {
     "name": "stderr",
     "output_type": "stream",
     "text": [
      "<>:8: SyntaxWarning: invalid escape sequence '\\$'\n",
      "<>:8: SyntaxWarning: invalid escape sequence '\\$'\n",
      "/var/folders/2l/sq8wptt11lq0jd0c4txzzj280000gn/T/ipykernel_31549/2283712729.py:8: SyntaxWarning: invalid escape sequence '\\$'\n",
      "  df['total'] = df['total'].replace('[\\$,]', '', regex=True).replace(',', '', regex=True).astype(float)\n"
     ]
    }
   ],
   "source": [
    "import pandas as pd\n",
    "import pickle\n",
    "\n",
    "# Leer el archivo pickle\n",
    "df = pd.read_pickle('/Users/noearredondo/Documents/PALMATERRA360/Download_Web/data/resultados/facturas_concentrado_20250508_095119.pkl')\n",
    "\n",
    "# Limpiar la columna 'total' eliminando símbolos y convirtiendo a float\n",
    "\n",
    "# Guardar como CSV\n",
    "df.to_csv('/Users/noearredondo/Documents/PALMATERRA360/Download_Web/data/resultados/facturas_concentrado_20250508_095119.csv', index=False)\n",
    "for i in df.columns:\n",
    "    print(i)\n",
    "\n",
    "# # Crear un diccionario con c_ClaveProdServ como clave y Descripción como valor\n",
    "# diccionario = dict(zip(df['c_ClaveProdServ'], df['Descripción']))\n",
    "\n",
    "# # Guardar el diccionario como archivo .pkl\n",
    "# with open('/Users/noearredondo/Documents/PALMATERRA360/Download_Web/data/facturas_pagadas_20250506_170732.pkl', 'wb') as f:\n",
    "#     pickle.dump(diccionario, f)"
   ]
  },
  {
   "cell_type": "code",
   "execution_count": null,
   "metadata": {},
   "outputs": [],
   "source": [
    "df2 = pd.read_excel('/Users/noearredondo/Documents/PALMATERRA360/Download_Web/data/model/catalogoCFDI4_sat.xlsx')\n",
    "df2['c_ClaveProdServ'] = df2['c_ClaveProdServ'].astype(str)\n",
    "df2.to_pickle('/Users/noearredondo/Documents/PALMATERRA360/Download_Web/data/model/catalogoCFDI4_sat.pkl')\n",
    "\n"
   ]
  },
  {
   "cell_type": "code",
   "execution_count": null,
   "metadata": {},
   "outputs": [],
   "source": [
    "df3 = pd.read_pickle('/Users/noearredondo/Documents/PALMATERRA360/Download_Web/data/model/catalogoCFDI4_sat.pkl')\n",
    "df3.columns\n",
    "df3.to_excel('/Users/noearredondo/Documents/PALMATERRA360/Download_Web/data/model/catalogoCFDI4_sat2.xlsx', index=False)"
   ]
  },
  {
   "cell_type": "code",
   "execution_count": null,
   "metadata": {},
   "outputs": [],
   "source": [
    "# Agrupar por xml_uuid, sumando campos numéricos y tomando el primer valor para el resto\n",
    "grouped_df = df.groupby('xml_uuid').agg({\n",
    "    'cantidad': 'sum',\n",
    "    'subtotal': 'sum',\n",
    "    'descuento': 'sum',\n",
    "    'venta_tasa_0': 'sum',\n",
    "    'venta_tasa_16': 'sum',\n",
    "    'total_iva': 'sum',\n",
    "    'retencion_iva': 'sum',\n",
    "    'retencion_isr': 'sum',\n",
    "    'total_ish': 'sum',\n",
    "    'total': 'sum',\n",
    "    # Tomar el primer valor para las demás columnas\n",
    "    **{col: 'first' for col in df.columns if col not in ['cantidad', 'subtotal', 'descuento', \n",
    "                                                        'venta_tasa_0', 'venta_tasa_16', 'total_iva', \n",
    "                                                        'retencion_iva', 'retencion_isr', 'total_ish', 'total']}\n",
    "}).reset_index(drop=True)\n",
    "\n",
    "grouped_df.to_excel('/Users/noearredondo/Documents/PALMATERRA360/Download_Web/data/Concentrado_xml_data_procesado_20250506_173743.xlsx', index=False)\n",
    "\n"
   ]
  },
  {
   "cell_type": "code",
   "execution_count": null,
   "metadata": {},
   "outputs": [],
   "source": []
  }
 ],
 "metadata": {
  "kernelspec": {
   "display_name": ".venv",
   "language": "python",
   "name": "python3"
  },
  "language_info": {
   "codemirror_mode": {
    "name": "ipython",
    "version": 3
   },
   "file_extension": ".py",
   "mimetype": "text/x-python",
   "name": "python",
   "nbconvert_exporter": "python",
   "pygments_lexer": "ipython3",
   "version": "3.12.8"
  }
 },
 "nbformat": 4,
 "nbformat_minor": 2
}
